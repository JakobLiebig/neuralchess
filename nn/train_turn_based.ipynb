{
 "cells": [
  {
   "cell_type": "code",
   "execution_count": null,
   "metadata": {},
   "outputs": [],
   "source": [
    "%pip install -r ../requirements.txt"
   ]
  },
  {
   "cell_type": "code",
   "execution_count": null,
   "metadata": {},
   "outputs": [],
   "source": [
    "import lightning as L\n",
    "\n",
    "# set seed for reproducibility\n",
    "L.seed_everything(seed=42, workers=True)"
   ]
  },
  {
   "cell_type": "code",
   "execution_count": 3,
   "metadata": {},
   "outputs": [],
   "source": [
    "from Classifier import ChessClassifier\n",
    "\n",
    "model = ChessClassifier(in_features=2*6*8*8, labels=3)"
   ]
  },
  {
   "cell_type": "code",
   "execution_count": null,
   "metadata": {},
   "outputs": [],
   "source": [
    "import pandas as pd\n",
    "\n",
    "df = pd.read_csv('data/lichess/data.csv')\n",
    "\n",
    "# fix differing occurence frequencys of labels\n",
    "print('Distribution of labels:')\n",
    "print(df['TurnEvaluation'].value_counts(normalize=True))\n",
    "\n",
    "min_count = df['TurnEvaluation'].value_counts().min()\n",
    "equalized_subset = df.groupby('TurnEvaluation').apply(lambda x: x.sample(n=min_count)).reset_index(drop=True)\n",
    "\n",
    "print(\"Equalized distribution of labels:\")\n",
    "print(equalized_subset['TurnEvaluation'].value_counts(normalize=True))\n",
    "\n",
    "print(f'New length of dataset: {len(equalized_subset)}')\n",
    "df = equalized_subset"
   ]
  },
  {
   "cell_type": "code",
   "execution_count": 5,
   "metadata": {},
   "outputs": [],
   "source": [
    "import torch.utils.data as tdata\n",
    "import pandas as pd\n",
    "\n",
    "from Encoder import ColorBased\n",
    "from Dataset import DataframeDataset\n",
    "\n",
    "\n",
    "dataset = DataframeDataset(\n",
    "    df['FEN'],\n",
    "    df['PropableWinner'],\n",
    "    feature_transform=ColorBased.fen_to_tensor,\n",
    "    label_transform=ColorBased.label_to_tensor)\n",
    "\n",
    "batchsize = 126\n",
    "val_len = 10000\n",
    "test_len = 10000\n",
    "train_len = len(dataset) - val_len - test_len\n",
    "\n",
    "train_data, val_data, test_data = tdata.random_split(dataset, (train_len, val_len, test_len))\n",
    "\n",
    "train_loader = tdata.DataLoader(train_data, batch_size=batchsize, shuffle=True, num_workers=4, persistent_workers=True)\n",
    "val_loader = tdata.DataLoader(val_data, batch_size=batchsize, shuffle=False, num_workers=4, persistent_workers=True)\n",
    "test_loader = tdata.DataLoader(test_data, batch_size=batchsize, shuffle=False, num_workers=4, persistent_workers=True)\n",
    "\n",
    "# delete df to clear up space\n",
    "del df"
   ]
  },
  {
   "cell_type": "code",
   "execution_count": 6,
   "metadata": {},
   "outputs": [],
   "source": [
    "from lightning.pytorch.loggers.tensorboard import TensorBoardLogger\n",
    "\n",
    "%load_ext tensorboard\n",
    "tb_logger = TensorBoardLogger(save_dir='./logs/', name='TurnBasedClassifier')"
   ]
  },
  {
   "cell_type": "code",
   "execution_count": null,
   "metadata": {},
   "outputs": [],
   "source": [
    "max_epochs=200\n",
    "trainer = L.Trainer(\n",
    "    limit_val_batches=0.2,\n",
    "    max_epochs=max_epochs,\n",
    "    logger=tb_logger\n",
    "    )\n",
    "\n",
    "trainer.fit(model=model, train_dataloaders=train_loader, val_dataloaders=val_loader)"
   ]
  },
  {
   "cell_type": "code",
   "execution_count": null,
   "metadata": {},
   "outputs": [],
   "source": [
    "trainer.test(model=model, dataloaders=test_loader)"
   ]
  }
 ],
 "metadata": {
  "kernelspec": {
   "display_name": ".venv",
   "language": "python",
   "name": "python3"
  },
  "language_info": {
   "codemirror_mode": {
    "name": "ipython",
    "version": 3
   },
   "file_extension": ".py",
   "mimetype": "text/x-python",
   "name": "python",
   "nbconvert_exporter": "python",
   "pygments_lexer": "ipython3",
   "version": "3.12.3"
  }
 },
 "nbformat": 4,
 "nbformat_minor": 2
}
